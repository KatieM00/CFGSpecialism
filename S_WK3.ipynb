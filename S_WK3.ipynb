{
  "metadata": {
    "language_info": {
      "codemirror_mode": {
        "name": "python",
        "version": 3
      },
      "file_extension": ".py",
      "mimetype": "text/x-python",
      "name": "python",
      "nbconvert_exporter": "python",
      "pygments_lexer": "ipython3",
      "version": "3.8"
    },
    "kernelspec": {
      "name": "python",
      "display_name": "Python (Pyodide)",
      "language": "python"
    }
  },
  "nbformat_minor": 4,
  "nbformat": 4,
  "cells": [
    {
      "cell_type": "code",
      "source": "# Question 1: Pie chart for male/female passengers proportion\n\ngender_counts = titanic_data['sex'].value_counts()\nplt.figure(figsize=(6, 6))\nplt.pie(gender_counts, labels=gender_counts.index, autopct='%1.1f%%', startangle=90, colors=['blue', 'pink'])\nplt.title('Proportion of Male/Female Passengers')\nplt.show()",
      "metadata": {},
      "execution_count": null,
      "outputs": []
    },
    {
      "cell_type": "markdown",
      "source": "### Question 1: Pie chart for male/female passengers proportion\n\nResult:\n![Figure_1_MaleFemalePass.png](..%2F..%2FCFG%2FS_WK3_Visualisations%2FFigure_1_MaleFemalePass.png)",
      "metadata": {}
    },
    {
      "cell_type": "code",
      "source": "# Question 2: Pie chart for passengers in each class proportion\n\nclass_counts = titanic_data['class'].value_counts()\nplt.figure(figsize=(6, 6))\nplt.pie(class_counts, labels=class_counts.index, autopct='%1.1f%%', startangle=90, colors=['gold', 'lightcoral', 'lightskyblue'])\nplt.title('Proportion of Passengers in Each Class')\nplt.show()\n",
      "metadata": {},
      "execution_count": null,
      "outputs": []
    },
    {
      "cell_type": "markdown",
      "source": "### Question 2: Pie chart for passengers in each class proportion:\n\nResult:\n![Figure_2_ClassPass.png](..%2F..%2FCFG%2FS_WK3_Visualisations%2FFigure_2_ClassPass.png)",
      "metadata": {}
    },
    {
      "cell_type": "code",
      "source": "# Question 3: Relationship between age and fare using a scatter plot\n\nplt.figure(figsize=(10, 6))\nsns.scatterplot(data=titanic_data, x='age', y='fare', hue='sex')\nplt.title('Relationship between Age and Fare')\nplt.xlabel('Age')\nplt.ylabel('Fare')\nplt.legend(title='Sex')\nplt.show()",
      "metadata": {},
      "execution_count": null,
      "outputs": []
    },
    {
      "cell_type": "markdown",
      "source": "### Question 3: Relationship between age and fare using a scatter plot\n\nResult:\n![Figure_3_CorrelFareAge.png](..%2F..%2FCFG%2FS_WK3_Visualisations%2FFigure_3_CorrelFareAge.png)",
      "metadata": {}
    },
    {
      "cell_type": "code",
      "source": "# Question 4: Survival ratio by age, sex, and class\nplt.figure(figsize=(12, 8))\nsns.barplot(data=titanic_data, x='class', y='survived', hue='sex', ci=None)\nplt.title('Survival Ratio by Age, Sex, and Class')\nplt.xlabel('Class')\nplt.ylabel('Survival Ratio')\nplt.legend(title='Sex')\nplt.show()",
      "metadata": {},
      "execution_count": null,
      "outputs": []
    },
    {
      "cell_type": "markdown",
      "source": "# Question 4: Survival ratio by age, sex, and class\n\nResult:\n\n![Figure_4_BarSurvival.png](..%2F..%2FCFG%2FS_WK3_Visualisations%2FFigure_4_BarSurvival.png)",
      "metadata": {}
    }
  ]
}